{
 "cells": [
  {
   "cell_type": "code",
   "execution_count": null,
   "id": "fc99835b-dc1c-4b74-860b-cf72d0957d70",
   "metadata": {},
   "outputs": [],
   "source": [
    "import numpy as np\n",
    "from mpl_toolkits.mplot3d.axes3d import Axes3D\n",
    "from matplotlib import pyplot\n",
    "# uncomment the next line and install the \"ipympl\" python package to get interactive plots\n",
    "# %matplotlib widget"
   ]
  },
  {
   "cell_type": "code",
   "execution_count": null,
   "id": "49580244-132b-437b-91c4-f29816fd3c7c",
   "metadata": {},
   "outputs": [],
   "source": [
    "def ComputeTPSWeights(X, Y, Z):\n",
    "    \"\"\"This function constructs a thin plate spline interpolating the given three-\n",
    "       dimensional points by means of a two-dimensional function. \n",
    "      \\param X,Y,Z Three arrays of shape (n,) containing n points in three-\n",
    "             dimensional space. \n",
    "      \\return An array of shape identical to X where the i-th entry stores the \n",
    "              weight to be used for the radial basis function centered at \n",
    "              (X[i],Y[i]).\"\"\"\n",
    "    return np.zeros(X.shape) # TODO Implement the solution"
   ]
  },
  {
   "cell_type": "code",
   "execution_count": null,
   "id": "530174c0-da67-4e7f-aeb1-8916e9725313",
   "metadata": {},
   "outputs": [],
   "source": [
    "def EvaluateTPSSpline(XNew, YNew, X, Y, Weights):\n",
    "    \"\"\"Given the weights for a thin plate spline as returned by ComputeTPSWeights \n",
    "       this function evaluates the thin plate spline at prescribed locations.\n",
    "      \\param XNew,YNew The x and y coordinates at which the TPS spline should be \n",
    "             evaluated. These are np.ndarray objects of arbitrary but identical \n",
    "             shape.\n",
    "      \\param X,Y The coordinates passed to ComputeTPSWeights().\n",
    "      \\param Weights The weights returned by ComputeTPSWeights().\n",
    "      \\return An array of shape identical to XNew containing the value of the thin \n",
    "              plate spline at the coordinates given by XNew and YNew.\"\"\"\n",
    "    return np.zeros(XNew.shape) # TODO Implement the solution"
   ]
  },
  {
   "cell_type": "code",
   "execution_count": null,
   "id": "83fd7892-ff98-4214-99a7-46fd797c1068",
   "metadata": {},
   "outputs": [],
   "source": [
    "nPoint=20\n",
    "X=np.random.rand(nPoint)\n",
    "Y=np.random.rand(nPoint)\n",
    "Z=np.random.rand(nPoint)\n",
    "# Produce a regular grid for evaluation of the thin plate spline\n",
    "nGridCell=41\n",
    "XNew=np.linspace(0.0,1.0,nGridCell)\n",
    "YNew=np.linspace(0.0,1.0,nGridCell)\n",
    "XNew,YNew=np.meshgrid(XNew,YNew)\n",
    "# Construct and evaluate the thin plate spline\n",
    "Weights=ComputeTPSWeights(X,Y,Z)\n",
    "ZNew=EvaluateTPSSpline(XNew,YNew,X,Y,Weights)\n",
    "\n",
    "# Check whether all points have been fitted correctly\n",
    "ZReconstructed=EvaluateTPSSpline(X,Y,X,Y,Weights)\n",
    "print(\"When the solution is correct, the following number should be near zero:\")\n",
    "print(np.linalg.norm(Z-ZReconstructed))"
   ]
  },
  {
   "cell_type": "code",
   "execution_count": null,
   "id": "91a10853-271b-4efb-92bd-6c8e04b2fec7",
   "metadata": {},
   "outputs": [],
   "source": [
    "# Plot the input points and the interpolated function\n",
    "Axes=pyplot.subplot(projection=\"3d\")\n",
    "Axes.scatter3D(X,Y,Z,color=\"r\")\n",
    "Axes.set_xlim(0.0,1.0)\n",
    "Axes.set_ylim(0.0,1.0)\n",
    "Axes.set_zlim(np.min(ZNew),np.max(ZNew))\n",
    "Axes.plot_wireframe(XNew,YNew,ZNew,rstride=1,cstride=1)\n",
    "pyplot.show()"
   ]
  }
 ],
 "metadata": {
  "kernelspec": {
   "display_name": "Python 3 (ipykernel)",
   "language": "python",
   "name": "python3"
  },
  "language_info": {
   "codemirror_mode": {
    "name": "ipython",
    "version": 3
   },
   "file_extension": ".py",
   "mimetype": "text/x-python",
   "name": "python",
   "nbconvert_exporter": "python",
   "pygments_lexer": "ipython3",
   "version": "3.11.4"
  }
 },
 "nbformat": 4,
 "nbformat_minor": 5
}
